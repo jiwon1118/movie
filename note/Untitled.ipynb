{
 "cells": [
  {
   "cell_type": "code",
   "execution_count": 1,
   "id": "4b9ad95a-27a4-41bf-99f4-26d5bc1c6563",
   "metadata": {},
   "outputs": [],
   "source": [
    "import pandas as pd"
   ]
  },
  {
   "cell_type": "code",
   "execution_count": 4,
   "id": "9544f54e-83b9-4edc-953d-6da352f14ef2",
   "metadata": {},
   "outputs": [],
   "source": [
    "df_1 = pd.read_parquet(\"~/temp/movie/dt=20210101\")  # df에 dt가 없음\n",
    "df_2 = pd.read_parquet(\"~/temp/movie/\") # dt가 있음\n",
    "\n",
    "#df.to_parquet(\"~/temp/movie\", partition_cols=['dt']) # 우리가 만든 것\n"
   ]
  },
  {
   "cell_type": "code",
   "execution_count": 5,
   "id": "cad985a1-a148-49d0-8ad4-fad0e5d2f48a",
   "metadata": {},
   "outputs": [
    {
     "data": {
      "text/html": [
       "<div>\n",
       "<style scoped>\n",
       "    .dataframe tbody tr th:only-of-type {\n",
       "        vertical-align: middle;\n",
       "    }\n",
       "\n",
       "    .dataframe tbody tr th {\n",
       "        vertical-align: top;\n",
       "    }\n",
       "\n",
       "    .dataframe thead th {\n",
       "        text-align: right;\n",
       "    }\n",
       "</style>\n",
       "<table border=\"1\" class=\"dataframe\">\n",
       "  <thead>\n",
       "    <tr style=\"text-align: right;\">\n",
       "      <th></th>\n",
       "      <th>rnum</th>\n",
       "      <th>rank</th>\n",
       "      <th>rankInten</th>\n",
       "      <th>rankOldAndNew</th>\n",
       "      <th>movieCd</th>\n",
       "      <th>movieNm</th>\n",
       "      <th>openDt</th>\n",
       "      <th>salesAmt</th>\n",
       "      <th>salesShare</th>\n",
       "      <th>salesInten</th>\n",
       "      <th>salesChange</th>\n",
       "      <th>salesAcc</th>\n",
       "      <th>audiCnt</th>\n",
       "      <th>audiInten</th>\n",
       "      <th>audiChange</th>\n",
       "      <th>audiAcc</th>\n",
       "      <th>scrnCnt</th>\n",
       "      <th>showCnt</th>\n",
       "    </tr>\n",
       "  </thead>\n",
       "  <tbody>\n",
       "    <tr>\n",
       "      <th>0</th>\n",
       "      <td>1</td>\n",
       "      <td>1</td>\n",
       "      <td>0</td>\n",
       "      <td>OLD</td>\n",
       "      <td>20112207</td>\n",
       "      <td>미션임파서블:고스트프로토콜</td>\n",
       "      <td>2011-12-15</td>\n",
       "      <td>2776060500</td>\n",
       "      <td>36.3</td>\n",
       "      <td>-415699000</td>\n",
       "      <td>-13</td>\n",
       "      <td>40541108500</td>\n",
       "      <td>353274</td>\n",
       "      <td>-60106</td>\n",
       "      <td>-14.5</td>\n",
       "      <td>5328435</td>\n",
       "      <td>697</td>\n",
       "      <td>3223</td>\n",
       "    </tr>\n",
       "  </tbody>\n",
       "</table>\n",
       "</div>"
      ],
      "text/plain": [
       "  rnum rank rankInten rankOldAndNew   movieCd         movieNm      openDt  \\\n",
       "0    1    1         0           OLD  20112207  미션임파서블:고스트프로토콜  2011-12-15   \n",
       "\n",
       "     salesAmt salesShare  salesInten salesChange     salesAcc audiCnt  \\\n",
       "0  2776060500       36.3  -415699000         -13  40541108500  353274   \n",
       "\n",
       "  audiInten audiChange  audiAcc scrnCnt showCnt  \n",
       "0    -60106      -14.5  5328435     697    3223  "
      ]
     },
     "execution_count": 5,
     "metadata": {},
     "output_type": "execute_result"
    }
   ],
   "source": [
    "df_1.head(1)"
   ]
  },
  {
   "cell_type": "code",
   "execution_count": 6,
   "id": "0808bb20-d6f7-432a-a371-17c20828e615",
   "metadata": {},
   "outputs": [
    {
     "data": {
      "text/html": [
       "<div>\n",
       "<style scoped>\n",
       "    .dataframe tbody tr th:only-of-type {\n",
       "        vertical-align: middle;\n",
       "    }\n",
       "\n",
       "    .dataframe tbody tr th {\n",
       "        vertical-align: top;\n",
       "    }\n",
       "\n",
       "    .dataframe thead th {\n",
       "        text-align: right;\n",
       "    }\n",
       "</style>\n",
       "<table border=\"1\" class=\"dataframe\">\n",
       "  <thead>\n",
       "    <tr style=\"text-align: right;\">\n",
       "      <th></th>\n",
       "      <th>rnum</th>\n",
       "      <th>rank</th>\n",
       "      <th>rankInten</th>\n",
       "      <th>rankOldAndNew</th>\n",
       "      <th>movieCd</th>\n",
       "      <th>movieNm</th>\n",
       "      <th>openDt</th>\n",
       "      <th>salesAmt</th>\n",
       "      <th>salesShare</th>\n",
       "      <th>salesInten</th>\n",
       "      <th>salesChange</th>\n",
       "      <th>salesAcc</th>\n",
       "      <th>audiCnt</th>\n",
       "      <th>audiInten</th>\n",
       "      <th>audiChange</th>\n",
       "      <th>audiAcc</th>\n",
       "      <th>scrnCnt</th>\n",
       "      <th>showCnt</th>\n",
       "      <th>dt</th>\n",
       "    </tr>\n",
       "  </thead>\n",
       "  <tbody>\n",
       "    <tr>\n",
       "      <th>0</th>\n",
       "      <td>1</td>\n",
       "      <td>1</td>\n",
       "      <td>0</td>\n",
       "      <td>OLD</td>\n",
       "      <td>20112207</td>\n",
       "      <td>미션임파서블:고스트프로토콜</td>\n",
       "      <td>2011-12-15</td>\n",
       "      <td>2776060500</td>\n",
       "      <td>36.3</td>\n",
       "      <td>-415699000</td>\n",
       "      <td>-13</td>\n",
       "      <td>40541108500</td>\n",
       "      <td>353274</td>\n",
       "      <td>-60106</td>\n",
       "      <td>-14.5</td>\n",
       "      <td>5328435</td>\n",
       "      <td>697</td>\n",
       "      <td>3223</td>\n",
       "      <td>20210101</td>\n",
       "    </tr>\n",
       "  </tbody>\n",
       "</table>\n",
       "</div>"
      ],
      "text/plain": [
       "  rnum rank rankInten rankOldAndNew   movieCd         movieNm      openDt  \\\n",
       "0    1    1         0           OLD  20112207  미션임파서블:고스트프로토콜  2011-12-15   \n",
       "\n",
       "     salesAmt salesShare  salesInten salesChange     salesAcc audiCnt  \\\n",
       "0  2776060500       36.3  -415699000         -13  40541108500  353274   \n",
       "\n",
       "  audiInten audiChange  audiAcc scrnCnt showCnt        dt  \n",
       "0    -60106      -14.5  5328435     697    3223  20210101  "
      ]
     },
     "execution_count": 6,
     "metadata": {},
     "output_type": "execute_result"
    }
   ],
   "source": [
    "df_2.head(1)"
   ]
  },
  {
   "cell_type": "code",
   "execution_count": null,
   "id": "0db02f14-dee9-4e06-be90-723ee55382df",
   "metadata": {},
   "outputs": [],
   "source": []
  }
 ],
 "metadata": {
  "kernelspec": {
   "display_name": "Python 3 (ipykernel)",
   "language": "python",
   "name": "python3"
  },
  "language_info": {
   "codemirror_mode": {
    "name": "ipython",
    "version": 3
   },
   "file_extension": ".py",
   "mimetype": "text/x-python",
   "name": "python",
   "nbconvert_exporter": "python",
   "pygments_lexer": "ipython3",
   "version": "3.10.12"
  }
 },
 "nbformat": 4,
 "nbformat_minor": 5
}
