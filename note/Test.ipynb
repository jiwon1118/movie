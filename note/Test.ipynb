{
 "cells": [
  {
   "cell_type": "code",
   "execution_count": 1,
   "id": "036cb64a-6b00-46a7-a808-5227d65654b7",
   "metadata": {},
   "outputs": [],
   "source": [
    "import pandas as pd\n",
    "\n",
    "BASE_PATH = \"/home/jiwon/data/movies/dailyboxoffice\"\n",
    "df = pd.read_parquet(BASE_PATH)"
   ]
  },
  {
   "cell_type": "code",
   "execution_count": 3,
   "id": "4feeb582-ec89-453a-b3e8-be3110abfa9e",
   "metadata": {},
   "outputs": [
    {
     "data": {
      "text/plain": [
       "Index(['rnum', 'rank', 'rankInten', 'rankOldAndNew', 'movieCd', 'movieNm',\n",
       "       'openDt', 'salesAmt', 'salesShare', 'salesInten', 'salesChange',\n",
       "       'salesAcc', 'audiCnt', 'audiInten', 'audiChange', 'audiAcc', 'scrnCnt',\n",
       "       'showCnt', 'dt', 'multiMovieYn', 'repNationCd'],\n",
       "      dtype='object')"
      ]
     },
     "execution_count": 3,
     "metadata": {},
     "output_type": "execute_result"
    }
   ],
   "source": [
    "df.columns"
   ]
  },
  {
   "cell_type": "markdown",
   "id": "4123958f-1dbe-490e-8d45-85bb67253c9a",
   "metadata": {},
   "source": [
    "partition => 값이 디렉토리 컬럼 이름으로 대체되면서 df에서는 삭제됨 \n",
    "```python\n",
    "jiwon@JIWON  ~/temp/test_p_1  tree\n",
    ".\n",
    "├── openDt=1973-01-13\n",
    "│   └── movieCd=19860125\n",
    "│       └── 735f93fa40504ed999fa18ee0f11b89d-0.parquet\n",
    "```"
   ]
  },
  {
   "cell_type": "code",
   "execution_count": 4,
   "id": "3c64162d-f127-463f-aaca-4f96ad8bf1a1",
   "metadata": {},
   "outputs": [],
   "source": [
    "df.to_parquet(\"~/temp/test_p_1\", partition_cols=['openDt','movieCd'])"
   ]
  },
  {
   "cell_type": "markdown",
   "id": "dcfb9877-f3cf-4f8b-acbc-7bd6d31e61c2",
   "metadata": {},
   "source": [
    "## 20250319 QUIZ 1\n",
    "\n",
    "- https://pandas.pydata.org/docs/reference/api/pandas.DataFrame.combine_first.html#pandas.DataFrame.combine_first"
   ]
  },
  {
   "cell_type": "code",
   "execution_count": 21,
   "id": "6756bb25-4fd5-4579-9be8-88ca9471716c",
   "metadata": {},
   "outputs": [
    {
     "name": "stdout",
     "output_type": "stream",
     "text": [
      "  movieCd multiMovieYn repNationCd\n",
      "0    1001            Y           K\n",
      "1    1002            Y           F\n",
      "2    1003            N        None\n"
     ]
    }
   ],
   "source": [
    "A = pd.DataFrame({\n",
    "    \"movieCd\": [\"1001\", \"1002\", \"1003\"],\n",
    "    \"multiMovieYn\": [\"Y\", \"Y\", \"N\"],\n",
    "    \"repNationCd\": [\"K\", \"F\", None]\n",
    "})\n",
    "\n",
    "print(A)\n",
    "# movieCd multiMovieYn repNationCd\n",
    "# 0    1001            Y           K\n",
    "# 1    1002            Y           F\n",
    "# 2    1003            N        None"
   ]
  },
  {
   "cell_type": "code",
   "execution_count": 22,
   "id": "429564dd-23d2-464b-aa2a-47aecf6b1bbc",
   "metadata": {},
   "outputs": [
    {
     "name": "stdout",
     "output_type": "stream",
     "text": [
      "  movieCd multiMovieYn repNationCd\n",
      "0    1001         None        None\n",
      "1    1003            Y           F\n",
      "2    1004            Y           K\n"
     ]
    }
   ],
   "source": [
    "B = pd.DataFrame({\n",
    "    \"movieCd\": [\"1001\", \"1003\", \"1004\"],\n",
    "    \"multiMovieYn\": [None, \"Y\", \"Y\"],\n",
    "    \"repNationCd\": [None, \"F\", \"K\"]\n",
    "})\n",
    "\n",
    "print(B)\n",
    "#   movieCd multiMovieYn repNationCd\n",
    "# 0    1001         None        None\n",
    "# 1    1003            Y           F\n",
    "# 2    1004            Y           K\n"
   ]
  },
  {
   "cell_type": "code",
   "execution_count": 25,
   "id": "4726ca67-5a34-4e78-b282-e76dca33d99f",
   "metadata": {},
   "outputs": [
    {
     "name": "stdout",
     "output_type": "stream",
     "text": [
      "        multiMovieYn repNationCd\n",
      "movieCd                         \n",
      "1001               Y           K\n",
      "1002               Y           F\n",
      "1003               N        None\n"
     ]
    }
   ],
   "source": [
    "print(A_set)"
   ]
  },
  {
   "cell_type": "code",
   "execution_count": 26,
   "id": "b3dcf85e-3680-4264-b301-66a5c65ff02a",
   "metadata": {},
   "outputs": [
    {
     "name": "stdout",
     "output_type": "stream",
     "text": [
      "        multiMovieYn repNationCd\n",
      "movieCd                         \n",
      "1001            None        None\n",
      "1003               Y           F\n",
      "1004               Y           K\n"
     ]
    }
   ],
   "source": [
    "print(B_set)"
   ]
  },
  {
   "cell_type": "code",
   "execution_count": 30,
   "id": "bc28a909-ccd9-4a15-964f-db1c3ac368f0",
   "metadata": {},
   "outputs": [
    {
     "name": "stdout",
     "output_type": "stream",
     "text": [
      "  movieCd multiMovieYn repNationCd\n",
      "0    1001            Y           K\n",
      "1    1002            Y           F\n",
      "2    1003            N           F\n",
      "3    1004            Y           K\n"
     ]
    }
   ],
   "source": [
    "# TODO\n",
    "# comdine 사용!\n",
    "\n",
    "A_set = A.set_index(\"movieCd\")\n",
    "B_set = B.set_index(\"movieCd\")\n",
    "\n",
    "r_df = A_set.combine_first(B_set)\n",
    "r_df = r_df.reset_index()\n",
    "\n",
    "print(r_df)\n",
    "\n",
    "# movieCd multiMovieYn repNationCd\n",
    "# 0    1001            Y           K\n",
    "# 1    1002            Y           F\n",
    "# 2    1003            N           F\n",
    "# 3    1004            Y           K"
   ]
  },
  {
   "cell_type": "markdown",
   "id": "a8b8e96d-1a73-4168-946e-73c59845cef0",
   "metadata": {},
   "source": [
    "## 추가 QUIZ 2\n",
    "\n",
    "- https://pandas.pydata.org/docs/reference/api/pandas.Series.combine_first.html#pandas.Series.combine_first"
   ]
  },
  {
   "cell_type": "code",
   "execution_count": 33,
   "id": "1ebc42f2-3b0e-4369-9e5f-fad0521f3637",
   "metadata": {},
   "outputs": [
    {
     "name": "stdout",
     "output_type": "stream",
     "text": [
      "  movieCd multiMovieYn_A repNationCd_A multiMovieYn_B repNationCd_B\n",
      "0    1001              Y             K           None          None\n",
      "1    1002              Y             F            NaN           NaN\n",
      "2    1003              N          None              Y             F\n",
      "3    1004            NaN           NaN              Y             K\n"
     ]
    }
   ],
   "source": [
    "merged_df = A.merge(B, on=\"movieCd\", how=\"outer\", suffixes=(\"_A\", \"_B\"))\n",
    "print(merged_df)\n",
    "#  movieCd multiMovieYn_A repNationCd_A multiMovieYn_B repNationCd_B\n",
    "# 0    1001              Y             K           None          None\n",
    "# 1    1002              Y             F            NaN           NaN\n",
    "# 2    1003              N          None              Y             F\n",
    "# 3    1004            NaN           NaN              Y             K"
   ]
  },
  {
   "cell_type": "code",
   "execution_count": 35,
   "id": "c998e5f7-a256-4995-b94c-b8b59eb1be95",
   "metadata": {},
   "outputs": [
    {
     "name": "stdout",
     "output_type": "stream",
     "text": [
      "  movieCd multiMovieYn repNationCd\n",
      "0    1001            Y           K\n",
      "1    1002            Y           F\n",
      "2    1003            N           F\n",
      "3    1004            Y           K\n"
     ]
    }
   ],
   "source": [
    "merged_df['multiMovieYn'] = merged_df['multiMovieYn_A'].combine_first(merged_df['multiMovieYn_B'])\n",
    "merged_df['repNationCd'] = merged_df['repNationCd_A'].combine_first(merged_df['repNationCd_B'])\n",
    "\n",
    "r_df2 = merged_df[['movieCd', 'multiMovieYn', 'repNationCd']]\n",
    "\n",
    "print(r_df2)"
   ]
  },
  {
   "cell_type": "code",
   "execution_count": 36,
   "id": "0ec84a6e-5fa7-4457-a5c5-ad628a873bfa",
   "metadata": {},
   "outputs": [],
   "source": [
    "import pandas as pd\n",
    "from datetime import datetime, timedelta"
   ]
  },
  {
   "cell_type": "code",
   "execution_count": 38,
   "id": "2c7b732f-e81f-41b7-ae51-4bc9f4fb20c0",
   "metadata": {},
   "outputs": [],
   "source": [
    "import pandas as pd\n",
    "import os\n",
    "\n",
    "\n",
    "def read_df(parquet_path: str) -> pd.DataFrame:\n",
    "    if os.path.exists(parquet_path):\n",
    "        df = pd.read_parquet(parquet_path)\n",
    "    else:\n",
    "        df = None\n",
    "        \n",
    "    return df"
   ]
  },
  {
   "cell_type": "code",
   "execution_count": 49,
   "id": "1858b08b-91c2-4678-adfc-98586a33c094",
   "metadata": {},
   "outputs": [
    {
     "name": "stdout",
     "output_type": "stream",
     "text": [
      "/home/jiwon/data/movies/merge/dailyboxoffice/dt=20240101\n"
     ]
    }
   ],
   "source": [
    "PATH = os.path.expanduser(\"~/data/movies/merge/dailyboxoffice/dt=\")\n",
    "ds_nodash = \"20240102\"\n",
    "# 문자열을 datetime 객체로 변환\n",
    "date_obj = datetime.strptime(ds_nodash, \"%Y%m%d\")\n",
    "# 하루 전 날짜 계산\n",
    "prev_date_obj = date_obj - timedelta(days=1)\n",
    "# 결과를 다시 문자열로 변환 (예: '20231231')\n",
    "prev_dt = prev_date_obj.strftime(\"%Y%m%d\")\n",
    "\n",
    "print(f\"{PATH}{prev_dt}\")\n",
    "previous_df = read_df(f\"{PATH}{prev_dt}\")\n",
    "current_df = read_df(f\"{PATH}{ds_nodash}\")"
   ]
  },
  {
   "cell_type": "code",
   "execution_count": 50,
   "id": "5ce7b768-29c8-4e93-ad2e-f1c8b052f71f",
   "metadata": {},
   "outputs": [
    {
     "data": {
      "text/plain": [
       "pandas.core.frame.DataFrame"
      ]
     },
     "execution_count": 50,
     "metadata": {},
     "output_type": "execute_result"
    }
   ],
   "source": [
    "type(current_df)"
   ]
  },
  {
   "cell_type": "code",
   "execution_count": null,
   "id": "b598286b-e524-4e69-8962-622e7adccba2",
   "metadata": {},
   "outputs": [],
   "source": []
  }
 ],
 "metadata": {
  "kernelspec": {
   "display_name": "Python 3 (ipykernel)",
   "language": "python",
   "name": "python3"
  },
  "language_info": {
   "codemirror_mode": {
    "name": "ipython",
    "version": 3
   },
   "file_extension": ".py",
   "mimetype": "text/x-python",
   "name": "python",
   "nbconvert_exporter": "python",
   "pygments_lexer": "ipython3",
   "version": "3.10.12"
  }
 },
 "nbformat": 4,
 "nbformat_minor": 5
}
